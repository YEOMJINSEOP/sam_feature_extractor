{
 "cells": [
  {
   "cell_type": "code",
   "execution_count": 53,
   "id": "a76b5f7c-a655-4b4c-9ef5-c2dc5757327c",
   "metadata": {},
   "outputs": [],
   "source": [
    "from segment_anything import SamPredictor, sam_model_registry, SamAutomaticMaskGenerator\n",
    "import numpy as np\n",
    "import random\n",
    "from itertools import product\n",
    "from tqdm import trange \n",
    "import os, fnmatch\n",
    "import torch\n",
    "import torch.nn as nn\n",
    "import cv2\n",
    "import matplotlib.pyplot as plt\n",
    "import sys\n",
    "np.set_printoptions(threshold=sys.maxsize, suppress=True)\n",
    "torch.set_printoptions(sci_mode=False, threshold=sys.maxsize)\n",
    "torch.cuda.set_device(1)\n",
    "\n",
    "def find(pattern, path):\n",
    "    result = []\n",
    "    for _, _, files in os.walk(path):\n",
    "        for name in files:\n",
    "            if fnmatch.fnmatch(name ,pattern):\n",
    "                result.append(name)\n",
    "    return result"
   ]
  },
  {
   "cell_type": "code",
   "execution_count": 58,
   "id": "0dfaae39-8f33-4a7f-a409-d34db3212bb6",
   "metadata": {},
   "outputs": [
    {
     "name": "stdout",
     "output_type": "stream",
     "text": [
      "current seq :  01\n"
     ]
    },
    {
     "name": "stderr",
     "output_type": "stream",
     "text": [
      "100%|██████████| 1101/1101 [52:37<00:00,  2.87s/it]\n"
     ]
    },
    {
     "name": "stdout",
     "output_type": "stream",
     "text": [
      "current seq :  02\n"
     ]
    },
    {
     "name": "stderr",
     "output_type": "stream",
     "text": [
      "100%|██████████| 4661/4661 [3:04:13<00:00,  2.37s/it]  \n"
     ]
    },
    {
     "name": "stdout",
     "output_type": "stream",
     "text": [
      "current seq :  03\n"
     ]
    },
    {
     "name": "stderr",
     "output_type": "stream",
     "text": [
      "100%|██████████| 801/801 [32:34<00:00,  2.44s/it]\n"
     ]
    },
    {
     "name": "stdout",
     "output_type": "stream",
     "text": [
      "current seq :  04\n"
     ]
    },
    {
     "name": "stderr",
     "output_type": "stream",
     "text": [
      "100%|██████████| 271/271 [10:48<00:00,  2.39s/it]\n"
     ]
    },
    {
     "name": "stdout",
     "output_type": "stream",
     "text": [
      "current seq :  05\n"
     ]
    },
    {
     "name": "stderr",
     "output_type": "stream",
     "text": [
      "100%|██████████| 2761/2761 [1:52:23<00:00,  2.44s/it]\n"
     ]
    },
    {
     "name": "stdout",
     "output_type": "stream",
     "text": [
      "current seq :  06\n"
     ]
    },
    {
     "name": "stderr",
     "output_type": "stream",
     "text": [
      "100%|██████████| 1101/1101 [46:52<00:00,  2.55s/it]\n"
     ]
    }
   ],
   "source": [
    "sam_checkpoint = \"/home/poscoict/Desktop/SAM/sam_vit_h_4b8939.pth\"\n",
    "model_type = \"vit_h\"\n",
    "device = \"cuda\"\n",
    "sam = sam_model_registry[model_type](checkpoint=sam_checkpoint)\n",
    "sam.to(device=device)\n",
    "predictor = SamPredictor(sam)\n",
    "# self.predictor.reset_image()\n",
    "mask_generator = SamAutomaticMaskGenerator(sam)\n",
    "coords_fea_cmp_layer = nn.Sequential(\n",
    "                nn.Linear(256, 3),\n",
    "                nn.ReLU()\n",
    "        ).to(device)\n",
    "\n",
    "def extract_mask_fea(mask):\n",
    "    _x, _y = np.meshgrid(np.arange(mask.shape[1]),np.arange(mask.shape[0])) # [376, 1241], [376, 1241]\n",
    "    m_x, m_y = _x[mask],_y[mask] # (mask coords, )\n",
    "    grid_x, grid_y = m_x/mask.shape[1]*2-1, m_y/mask.shape[0]*2-1 # (mask coords, )\n",
    "    grid_tmp = torch.Tensor(np.stack([grid_x, grid_y],-1)[None,:,None,:]).cuda() # (1, mask coords, 1, 2)\n",
    "    tmp_fea = torch.nn.functional.grid_sample(embedding, grid_tmp)[0,...,0].mean(-1) # [256]\n",
    "    return tmp_fea\n",
    "\n",
    "def extract_uv_fea(uvs, img):\n",
    "    uv_x, uv_y = uvs[:, 0], uvs[:, 1]\n",
    "    grid_x, grid_y = uv_x/img.shape[1]*2-1, uv_y/img.shape[0]*2-1 # (num uvs, )\n",
    "    grid_tmp = torch.Tensor(np.stack([grid_x, grid_y],-1)[None,:,None,:]).cuda()\n",
    "    tmp_fea = torch.nn.functional.grid_sample(embedding, grid_tmp)[0,...,0].mean(-1) # [256]\n",
    "    return tmp_fea    \n",
    "\n",
    "for i in range(1, 11):\n",
    "    # ====================================================================== dir setting ==================================================================\n",
    "    seq_root = '/home/poscoict/Desktop/c3d_semKITTI_refined/dataset/sequences'\n",
    "    seq_dir_root = os.listdir(seq_root)\n",
    "    seq_dir_root.sort()\n",
    "    # for seq_dir in seq_dir_root:\n",
    "    seq_dir = seq_dir_root[i] \n",
    "\n",
    "    image_root = os.path.join(seq_root,seq_dir,'image_2')\n",
    "    uvs_root = os.path.join(seq_root,seq_dir,'uvs')\n",
    "    label_root = os.path.join(seq_root,seq_dir,'labels')\n",
    "\n",
    "    mask_map_root = os.path.join(seq_root, seq_dir, 'mask_map') \n",
    "    img_emb_root = os.path.join(seq_root, seq_dir, 'img_emb')\n",
    "    masks_fea_root = os.path.join(seq_root, seq_dir, 'masks_fea')    \n",
    "    coords_fea_root = os.path.join(seq_root, seq_dir, 'img_fea_256')\n",
    "    uv_wise_fea_root =  os.path.join(seq_root, seq_dir, 'uv_wise_fea')\n",
    "\n",
    "    \n",
    "    os.makedirs(mask_map_root, exist_ok=True)    \n",
    "    os.makedirs(img_emb_root, exist_ok=True)\n",
    "    os.makedirs(masks_fea_root, exist_ok=True)\n",
    "    os.makedirs(coords_fea_root, exist_ok=True)\n",
    "    os.makedirs(uv_wise_fea_root, exist_ok=True)\n",
    "\n",
    "\n",
    "    image_dirs = find(\"*.png\", image_root)\n",
    "    uvs_dirs = find(\"*.npy\", uvs_root)\n",
    "    label_dirs = find(\"*.npy\", label_root) \n",
    "    image_dirs.sort()\n",
    "    uvs_dirs.sort()\n",
    "    label_dirs.sort()\n",
    "\n",
    "    print(\"current seq : \", seq_dir)\n",
    "    # ====================================================================== dir setting ==================================================================\n",
    "\n",
    "    for idx in trange(len(image_dirs)):\n",
    "        img_path = os.path.join(image_root, image_dirs[idx])\n",
    "        uvs_path = os.path.join(uvs_root, uvs_dirs[idx])\n",
    "        label_path = os.path.join(label_root, label_dirs[idx]) \n",
    "    \n",
    "        uvs = np.load(uvs_path).astype(np.int32)\n",
    "        x_coords, y_coords = uvs[:, 0], uvs[:, 1]\n",
    "    \n",
    "        img = cv2.imread(img_path)\n",
    "        img = cv2.cvtColor(img,cv2.COLOR_BGR2RGB)\n",
    "        predictor.set_image(img)\n",
    "        \n",
    "        masks = mask_generator.generate(img)\n",
    "        embedding = predictor.get_image_embedding() # [1, 256, 64, 64]\n",
    "\n",
    "        # **\n",
    "        uv_wise_fea = extract_uv_fea(uvs, img)\n",
    "        # **\n",
    "        \n",
    "        num_pts = uvs.shape[0]\n",
    "        coords_fea = torch.zeros((num_pts, 256)).to(device) # [num pts, 256]\n",
    "        masks_fea = torch.zeros((len(masks), 256)).to(device) # [num masks, 256]\n",
    "        mask_map = np.zeros((img.shape[0], img.shape[1]), dtype=np.int32) # [H, W]\n",
    "        \n",
    "        for m_idx, mask in enumerate(masks):\n",
    "            mask = mask['segmentation']\n",
    "            mask_fea = extract_mask_fea(mask) # [256]\n",
    "            \n",
    "            m_idxs = torch.from_numpy(mask[y_coords, x_coords]).to(device) # (num pts, )\n",
    "            true_coords = torch.where(m_idxs)[0].to(device) # (num True pts, )\n",
    "            coords_fea[true_coords] = mask_fea \n",
    "            \n",
    "            masks_fea[m_idx] = mask_fea\n",
    "\n",
    "            mask_map[mask] = m_idx+1\n",
    "\n",
    "        np.save(os.path.join(mask_map_root, str(idx).zfill(6) + \".npy\"), mask_map) # mask map        \n",
    "        torch.save(embedding, os.path.join(img_emb_root, str(idx).zfill(6) + \".pt\")) # image embedding from SAM Encoder\n",
    "        torch.save(masks_fea, os.path.join(masks_fea_root, str(idx).zfill(6) + \".pt\")) # gathering each mask's feature by index       \n",
    "        torch.save(coords_fea, os.path.join(coords_fea_root, str(idx).zfill(6) + \".pt\")) # 256 dimension SAM Image feature\n",
    "        torch.save(uv_wise_fea, os.path.join(uv_wise_fea_root, str(idx).zfill(6) + \".pt\")) "
   ]
  },
  {
   "cell_type": "code",
   "execution_count": null,
   "id": "b1856815-c30f-4401-80f7-14f03e49d15b",
   "metadata": {},
   "outputs": [],
   "source": []
  },
  {
   "cell_type": "code",
   "execution_count": null,
   "id": "3b78720d-8fb0-4334-a5df-8f55e59dd3e5",
   "metadata": {},
   "outputs": [],
   "source": []
  },
  {
   "cell_type": "code",
   "execution_count": null,
   "id": "a213481c-43a2-4c45-bfab-e743409f6412",
   "metadata": {},
   "outputs": [],
   "source": []
  },
  {
   "cell_type": "code",
   "execution_count": null,
   "id": "a7127059-4d73-498d-8fe4-6d7c055dffc2",
   "metadata": {},
   "outputs": [],
   "source": []
  },
  {
   "cell_type": "code",
   "execution_count": null,
   "id": "2a28819d-14a3-4313-9894-c7c6c4d383b5",
   "metadata": {},
   "outputs": [],
   "source": []
  },
  {
   "cell_type": "code",
   "execution_count": null,
   "id": "5470109a-ff60-47f0-9828-e617459cd55f",
   "metadata": {},
   "outputs": [],
   "source": []
  },
  {
   "cell_type": "code",
   "execution_count": null,
   "id": "7e2e1d5f-fe41-4e97-aea9-8e427184234b",
   "metadata": {},
   "outputs": [],
   "source": []
  },
  {
   "cell_type": "code",
   "execution_count": null,
   "id": "6d373b52-dbad-4539-b5f6-4efbfc6802f3",
   "metadata": {},
   "outputs": [],
   "source": []
  },
  {
   "cell_type": "code",
   "execution_count": null,
   "id": "cab94d8e-1871-41ae-916d-257ea1bf843f",
   "metadata": {},
   "outputs": [],
   "source": []
  },
  {
   "cell_type": "code",
   "execution_count": null,
   "id": "c357cac4-5ab8-4fc0-8914-93069733a584",
   "metadata": {},
   "outputs": [],
   "source": []
  },
  {
   "cell_type": "code",
   "execution_count": null,
   "id": "d04a650e-6691-4031-8f26-542dae32c009",
   "metadata": {},
   "outputs": [],
   "source": []
  }
 ],
 "metadata": {
  "kernelspec": {
   "display_name": "Python 3 (ipykernel)",
   "language": "python",
   "name": "python3"
  },
  "language_info": {
   "codemirror_mode": {
    "name": "ipython",
    "version": 3
   },
   "file_extension": ".py",
   "mimetype": "text/x-python",
   "name": "python",
   "nbconvert_exporter": "python",
   "pygments_lexer": "ipython3",
   "version": "3.8.16"
  }
 },
 "nbformat": 4,
 "nbformat_minor": 5
}
